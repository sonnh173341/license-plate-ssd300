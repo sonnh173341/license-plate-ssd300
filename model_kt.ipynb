{
  "nbformat": 4,
  "nbformat_minor": 0,
  "metadata": {
    "colab": {
      "name": "model_kt.ipynb",
      "provenance": [],
      "collapsed_sections": []
    },
    "kernelspec": {
      "name": "python3",
      "display_name": "Python 3"
    },
    "accelerator": "GPU"
  },
  "cells": [
    {
      "cell_type": "code",
      "metadata": {
        "id": "qvuNK-EbqpNG",
        "colab_type": "code",
        "colab": {
          "base_uri": "https://localhost:8080/",
          "height": 843
        },
        "outputId": "e729f951-75de-493f-d24c-74b9d571d5af"
      },
      "source": [
        "!pip install keras opencv-python numpy\n",
        "!pip install tensorflow==1.14"
      ],
      "execution_count": null,
      "outputs": [
        {
          "output_type": "stream",
          "text": [
            "Requirement already satisfied: keras in /usr/local/lib/python3.6/dist-packages (2.3.1)\n",
            "Requirement already satisfied: opencv-python in /usr/local/lib/python3.6/dist-packages (4.1.2.30)\n",
            "Requirement already satisfied: numpy in /usr/local/lib/python3.6/dist-packages (1.18.4)\n",
            "Requirement already satisfied: scipy>=0.14 in /usr/local/lib/python3.6/dist-packages (from keras) (1.4.1)\n",
            "Requirement already satisfied: six>=1.9.0 in /usr/local/lib/python3.6/dist-packages (from keras) (1.12.0)\n",
            "Requirement already satisfied: keras-applications>=1.0.6 in /usr/local/lib/python3.6/dist-packages (from keras) (1.0.8)\n",
            "Requirement already satisfied: keras-preprocessing>=1.0.5 in /usr/local/lib/python3.6/dist-packages (from keras) (1.1.2)\n",
            "Requirement already satisfied: pyyaml in /usr/local/lib/python3.6/dist-packages (from keras) (3.13)\n",
            "Requirement already satisfied: h5py in /usr/local/lib/python3.6/dist-packages (from keras) (2.10.0)\n",
            "Collecting tensorflow==1.14\n",
            "\u001b[?25l  Downloading https://files.pythonhosted.org/packages/de/f0/96fb2e0412ae9692dbf400e5b04432885f677ad6241c088ccc5fe7724d69/tensorflow-1.14.0-cp36-cp36m-manylinux1_x86_64.whl (109.2MB)\n",
            "\u001b[K     |████████████████████████████████| 109.2MB 100kB/s \n",
            "\u001b[?25hRequirement already satisfied: wheel>=0.26 in /usr/local/lib/python3.6/dist-packages (from tensorflow==1.14) (0.34.2)\n",
            "Requirement already satisfied: astor>=0.6.0 in /usr/local/lib/python3.6/dist-packages (from tensorflow==1.14) (0.8.1)\n",
            "Requirement already satisfied: absl-py>=0.7.0 in /usr/local/lib/python3.6/dist-packages (from tensorflow==1.14) (0.9.0)\n",
            "Requirement already satisfied: gast>=0.2.0 in /usr/local/lib/python3.6/dist-packages (from tensorflow==1.14) (0.3.3)\n",
            "Requirement already satisfied: six>=1.10.0 in /usr/local/lib/python3.6/dist-packages (from tensorflow==1.14) (1.12.0)\n",
            "Requirement already satisfied: protobuf>=3.6.1 in /usr/local/lib/python3.6/dist-packages (from tensorflow==1.14) (3.10.0)\n",
            "Requirement already satisfied: grpcio>=1.8.6 in /usr/local/lib/python3.6/dist-packages (from tensorflow==1.14) (1.29.0)\n",
            "Requirement already satisfied: wrapt>=1.11.1 in /usr/local/lib/python3.6/dist-packages (from tensorflow==1.14) (1.12.1)\n",
            "Collecting tensorboard<1.15.0,>=1.14.0\n",
            "\u001b[?25l  Downloading https://files.pythonhosted.org/packages/91/2d/2ed263449a078cd9c8a9ba50ebd50123adf1f8cfbea1492f9084169b89d9/tensorboard-1.14.0-py3-none-any.whl (3.1MB)\n",
            "\u001b[K     |████████████████████████████████| 3.2MB 24.1MB/s \n",
            "\u001b[?25hRequirement already satisfied: termcolor>=1.1.0 in /usr/local/lib/python3.6/dist-packages (from tensorflow==1.14) (1.1.0)\n",
            "Requirement already satisfied: keras-applications>=1.0.6 in /usr/local/lib/python3.6/dist-packages (from tensorflow==1.14) (1.0.8)\n",
            "Collecting tensorflow-estimator<1.15.0rc0,>=1.14.0rc0\n",
            "\u001b[?25l  Downloading https://files.pythonhosted.org/packages/3c/d5/21860a5b11caf0678fbc8319341b0ae21a07156911132e0e71bffed0510d/tensorflow_estimator-1.14.0-py2.py3-none-any.whl (488kB)\n",
            "\u001b[K     |████████████████████████████████| 491kB 23.2MB/s \n",
            "\u001b[?25hRequirement already satisfied: keras-preprocessing>=1.0.5 in /usr/local/lib/python3.6/dist-packages (from tensorflow==1.14) (1.1.2)\n",
            "Requirement already satisfied: numpy<2.0,>=1.14.5 in /usr/local/lib/python3.6/dist-packages (from tensorflow==1.14) (1.18.4)\n",
            "Requirement already satisfied: google-pasta>=0.1.6 in /usr/local/lib/python3.6/dist-packages (from tensorflow==1.14) (0.2.0)\n",
            "Requirement already satisfied: setuptools in /usr/local/lib/python3.6/dist-packages (from protobuf>=3.6.1->tensorflow==1.14) (46.4.0)\n",
            "Requirement already satisfied: werkzeug>=0.11.15 in /usr/local/lib/python3.6/dist-packages (from tensorboard<1.15.0,>=1.14.0->tensorflow==1.14) (1.0.1)\n",
            "Requirement already satisfied: markdown>=2.6.8 in /usr/local/lib/python3.6/dist-packages (from tensorboard<1.15.0,>=1.14.0->tensorflow==1.14) (3.2.2)\n",
            "Requirement already satisfied: h5py in /usr/local/lib/python3.6/dist-packages (from keras-applications>=1.0.6->tensorflow==1.14) (2.10.0)\n",
            "Requirement already satisfied: importlib-metadata; python_version < \"3.8\" in /usr/local/lib/python3.6/dist-packages (from markdown>=2.6.8->tensorboard<1.15.0,>=1.14.0->tensorflow==1.14) (1.6.0)\n",
            "Requirement already satisfied: zipp>=0.5 in /usr/local/lib/python3.6/dist-packages (from importlib-metadata; python_version < \"3.8\"->markdown>=2.6.8->tensorboard<1.15.0,>=1.14.0->tensorflow==1.14) (3.1.0)\n",
            "Installing collected packages: tensorboard, tensorflow-estimator, tensorflow\n",
            "  Found existing installation: tensorboard 2.2.1\n",
            "    Uninstalling tensorboard-2.2.1:\n",
            "      Successfully uninstalled tensorboard-2.2.1\n",
            "  Found existing installation: tensorflow-estimator 2.2.0\n",
            "    Uninstalling tensorflow-estimator-2.2.0:\n",
            "      Successfully uninstalled tensorflow-estimator-2.2.0\n",
            "  Found existing installation: tensorflow 2.2.0\n",
            "    Uninstalling tensorflow-2.2.0:\n",
            "      Successfully uninstalled tensorflow-2.2.0\n",
            "Successfully installed tensorboard-1.14.0 tensorflow-1.14.0 tensorflow-estimator-1.14.0\n"
          ],
          "name": "stdout"
        }
      ]
    },
    {
      "cell_type": "code",
      "metadata": {
        "id": "vWPLretEqzp5",
        "colab_type": "code",
        "colab": {
          "base_uri": "https://localhost:8080/",
          "height": 35
        },
        "outputId": "af908c87-ee59-4235-acb8-93338d17e8cb"
      },
      "source": [
        "cd '/content/drive/My Drive'"
      ],
      "execution_count": null,
      "outputs": [
        {
          "output_type": "stream",
          "text": [
            "/content/drive/My Drive\n"
          ],
          "name": "stdout"
        }
      ]
    },
    {
      "cell_type": "code",
      "metadata": {
        "id": "zF1eLFQ_qyvo",
        "colab_type": "code",
        "colab": {}
      },
      "source": [
        "import zipfile\n",
        "\n",
        "zip = zipfile.ZipFile('pickle.zip')\n",
        "zip.extractall('pickle')\n",
        "zip.close()"
      ],
      "execution_count": null,
      "outputs": []
    },
    {
      "cell_type": "code",
      "metadata": {
        "id": "fdLJ6e6Zq2Z8",
        "colab_type": "code",
        "colab": {
          "base_uri": "https://localhost:8080/",
          "height": 126
        },
        "outputId": "7d725e4e-a0d4-438e-e651-144f893b2566"
      },
      "source": [
        "import cv2\n",
        "import numpy as np\n",
        "import pickle\n",
        "\n",
        "train_data = pickle.load(open(\"./pickle/pickle/train_data.pkl\",\"rb\"))\n",
        "train_label = pickle.load(open(\"./pickle/pickle/train_label.pkl\",\"rb\"))\n",
        "test_data = pickle.load(open(\"./pickle/pickle/test_data.pkl\",\"rb\"))\n",
        "test_label = pickle.load(open(\"./pickle/pickle/test_label.pkl\",\"rb\"))\n",
        "\n",
        "print(train_data.shape)\n",
        "print(train_label.shape)\n",
        "print(test_data.shape)\n",
        "print(test_label.shape)\n",
        "\n",
        "height, width = train_data.shape[1], train_data.shape[2]\n",
        "#Chuan hoa du lieu\n",
        "train_data = train_data.reshape(train_data.shape[0], train_data.shape[1], train_data.shape[2], 1)\n",
        "test_data = test_data.reshape(test_data.shape[0], test_data.shape[1], test_data.shape[2], 1)\n",
        "input_shape = (height, width, 1)\n",
        "num_classes = train_label.shape[1]\n",
        "num_pixels = height*width\n",
        "print(num_classes)\n",
        "print(num_pixels)"
      ],
      "execution_count": null,
      "outputs": [
        {
          "output_type": "stream",
          "text": [
            "(11645, 64, 64)\n",
            "(11645, 32)\n",
            "(2710, 64, 64)\n",
            "(2710, 32)\n",
            "32\n",
            "4096\n"
          ],
          "name": "stdout"
        }
      ]
    },
    {
      "cell_type": "code",
      "metadata": {
        "id": "w-KTzc0fq65b",
        "colab_type": "code",
        "colab": {
          "base_uri": "https://localhost:8080/",
          "height": 490
        },
        "outputId": "ceecd6a0-145d-4590-860c-fff8cf157055"
      },
      "source": [
        "#create Model\n",
        "import keras\n",
        "from keras.layers import Conv2D, MaxPooling2D, Flatten, Dropout, Dense\n",
        "from keras.models import Sequential\n",
        "from keras.optimizers import SGD \n",
        "\n",
        "model = Sequential()\n",
        "model.add(Conv2D(32, (3, 3), activation = 'relu', input_shape = input_shape ))\n",
        "model.add(Conv2D(64, (3, 3), activation = 'relu'))\n",
        "model.add(MaxPooling2D(pool_size=(2, 2)))\n",
        "model.add(Dropout(0.25))\n",
        "model.add(Flatten())\n",
        "model.add(Dense(128, activation = 'relu'))\n",
        "model.add(Dropout(0.5))\n",
        "model.add(Dense(num_classes, activation = 'softmax'))\n",
        "model.compile(loss = 'categorical_crossentropy',\n",
        "              optimizer = SGD(0.01),\n",
        "              metrics = ['accuracy'])\n",
        "print(model.summary())"
      ],
      "execution_count": null,
      "outputs": [
        {
          "output_type": "stream",
          "text": [
            "Using TensorFlow backend.\n"
          ],
          "name": "stderr"
        },
        {
          "output_type": "stream",
          "text": [
            "Model: \"sequential_1\"\n",
            "_________________________________________________________________\n",
            "Layer (type)                 Output Shape              Param #   \n",
            "=================================================================\n",
            "conv2d_1 (Conv2D)            (None, 62, 62, 32)        320       \n",
            "_________________________________________________________________\n",
            "conv2d_2 (Conv2D)            (None, 60, 60, 64)        18496     \n",
            "_________________________________________________________________\n",
            "max_pooling2d_1 (MaxPooling2 (None, 30, 30, 64)        0         \n",
            "_________________________________________________________________\n",
            "dropout_1 (Dropout)          (None, 30, 30, 64)        0         \n",
            "_________________________________________________________________\n",
            "flatten_1 (Flatten)          (None, 57600)             0         \n",
            "_________________________________________________________________\n",
            "dense_1 (Dense)              (None, 128)               7372928   \n",
            "_________________________________________________________________\n",
            "dropout_2 (Dropout)          (None, 128)               0         \n",
            "_________________________________________________________________\n",
            "dense_2 (Dense)              (None, 32)                4128      \n",
            "=================================================================\n",
            "Total params: 7,395,872\n",
            "Trainable params: 7,395,872\n",
            "Non-trainable params: 0\n",
            "_________________________________________________________________\n",
            "None\n"
          ],
          "name": "stdout"
        }
      ]
    },
    {
      "cell_type": "code",
      "metadata": {
        "id": "BHVufnHmq-zg",
        "colab_type": "code",
        "colab": {
          "base_uri": "https://localhost:8080/",
          "height": 1000
        },
        "outputId": "96c51a12-5f5c-4753-f320-4f6ea398e39b"
      },
      "source": [
        "#train_model\n",
        "batch_size = 100\n",
        "epochs = 350\n",
        "history = model.fit(train_data, train_label, \n",
        "                    batch_size = batch_size, verbose = 1, epochs = epochs, validation_data = (test_data, test_label))\n",
        "score = model.evaluate(test_data, test_label, verbose=0)\n",
        "print('Test loss:', score[0])\n",
        "print('Test accuracy:', score[1])"
      ],
      "execution_count": null,
      "outputs": [
        {
          "output_type": "stream",
          "text": [
            "Train on 11645 samples, validate on 2710 samples\n",
            "Epoch 1/350\n",
            "11645/11645 [==============================] - 13s 1ms/step - loss: 2.2014 - accuracy: 0.4184 - val_loss: 1.2770 - val_accuracy: 0.7299\n",
            "Epoch 2/350\n",
            "11645/11645 [==============================] - 7s 581us/step - loss: 1.0926 - accuracy: 0.7349 - val_loss: 0.7243 - val_accuracy: 0.8162\n",
            "Epoch 3/350\n",
            "11645/11645 [==============================] - 7s 584us/step - loss: 0.7944 - accuracy: 0.8042 - val_loss: 0.5132 - val_accuracy: 0.8830\n",
            "Epoch 4/350\n",
            "11645/11645 [==============================] - 7s 584us/step - loss: 0.6596 - accuracy: 0.8380 - val_loss: 0.4550 - val_accuracy: 0.8856\n",
            "Epoch 5/350\n",
            "11645/11645 [==============================] - 7s 579us/step - loss: 0.5908 - accuracy: 0.8483 - val_loss: 0.3857 - val_accuracy: 0.9037\n",
            "Epoch 6/350\n",
            "11645/11645 [==============================] - 7s 583us/step - loss: 0.5371 - accuracy: 0.8630 - val_loss: 0.3634 - val_accuracy: 0.9044\n",
            "Epoch 7/350\n",
            "11645/11645 [==============================] - 7s 577us/step - loss: 0.4787 - accuracy: 0.8745 - val_loss: 0.3530 - val_accuracy: 0.9085\n",
            "Epoch 8/350\n",
            "11645/11645 [==============================] - 7s 575us/step - loss: 0.4554 - accuracy: 0.8808 - val_loss: 0.3190 - val_accuracy: 0.9162\n",
            "Epoch 9/350\n",
            "11645/11645 [==============================] - 7s 577us/step - loss: 0.4370 - accuracy: 0.8828 - val_loss: 0.2868 - val_accuracy: 0.9317\n",
            "Epoch 10/350\n",
            "11645/11645 [==============================] - 7s 578us/step - loss: 0.4030 - accuracy: 0.8939 - val_loss: 0.2669 - val_accuracy: 0.9284\n",
            "Epoch 11/350\n",
            "11645/11645 [==============================] - 7s 576us/step - loss: 0.3833 - accuracy: 0.9000 - val_loss: 0.2596 - val_accuracy: 0.9258\n",
            "Epoch 12/350\n",
            "11645/11645 [==============================] - 7s 576us/step - loss: 0.3731 - accuracy: 0.9018 - val_loss: 0.2311 - val_accuracy: 0.9461\n",
            "Epoch 13/350\n",
            "11645/11645 [==============================] - 7s 581us/step - loss: 0.3532 - accuracy: 0.9098 - val_loss: 0.2200 - val_accuracy: 0.9458\n",
            "Epoch 14/350\n",
            "11645/11645 [==============================] - 7s 579us/step - loss: 0.3376 - accuracy: 0.9123 - val_loss: 0.2295 - val_accuracy: 0.9413\n",
            "Epoch 15/350\n",
            "11645/11645 [==============================] - 7s 575us/step - loss: 0.3352 - accuracy: 0.9110 - val_loss: 0.2054 - val_accuracy: 0.9506\n",
            "Epoch 16/350\n",
            "11645/11645 [==============================] - 7s 580us/step - loss: 0.3330 - accuracy: 0.9129 - val_loss: 0.1931 - val_accuracy: 0.9554\n",
            "Epoch 17/350\n",
            "11645/11645 [==============================] - 7s 589us/step - loss: 0.3140 - accuracy: 0.9168 - val_loss: 0.1966 - val_accuracy: 0.9502\n",
            "Epoch 18/350\n",
            "11645/11645 [==============================] - 7s 577us/step - loss: 0.3060 - accuracy: 0.9184 - val_loss: 0.1862 - val_accuracy: 0.9554\n",
            "Epoch 19/350\n",
            "11645/11645 [==============================] - 7s 582us/step - loss: 0.2948 - accuracy: 0.9227 - val_loss: 0.1843 - val_accuracy: 0.9557\n",
            "Epoch 20/350\n",
            "11645/11645 [==============================] - 7s 576us/step - loss: 0.2784 - accuracy: 0.9267 - val_loss: 0.1941 - val_accuracy: 0.9476\n",
            "Epoch 21/350\n",
            "11645/11645 [==============================] - 7s 575us/step - loss: 0.2788 - accuracy: 0.9262 - val_loss: 0.1753 - val_accuracy: 0.9598\n",
            "Epoch 22/350\n",
            "11645/11645 [==============================] - 7s 579us/step - loss: 0.2695 - accuracy: 0.9291 - val_loss: 0.1596 - val_accuracy: 0.9627\n",
            "Epoch 23/350\n",
            "11645/11645 [==============================] - 7s 578us/step - loss: 0.2553 - accuracy: 0.9272 - val_loss: 0.1659 - val_accuracy: 0.9631\n",
            "Epoch 24/350\n",
            "11645/11645 [==============================] - 7s 575us/step - loss: 0.2715 - accuracy: 0.9274 - val_loss: 0.1778 - val_accuracy: 0.9587\n",
            "Epoch 25/350\n",
            "11645/11645 [==============================] - 7s 578us/step - loss: 0.2607 - accuracy: 0.9310 - val_loss: 0.1740 - val_accuracy: 0.9590\n",
            "Epoch 26/350\n",
            "11645/11645 [==============================] - 7s 575us/step - loss: 0.2529 - accuracy: 0.9345 - val_loss: 0.1681 - val_accuracy: 0.9594\n",
            "Epoch 27/350\n",
            "11645/11645 [==============================] - 7s 577us/step - loss: 0.2428 - accuracy: 0.9354 - val_loss: 0.1502 - val_accuracy: 0.9620\n",
            "Epoch 28/350\n",
            "11645/11645 [==============================] - 7s 575us/step - loss: 0.2336 - accuracy: 0.9365 - val_loss: 0.1431 - val_accuracy: 0.9675\n",
            "Epoch 29/350\n",
            "11645/11645 [==============================] - 7s 579us/step - loss: 0.2300 - accuracy: 0.9376 - val_loss: 0.1367 - val_accuracy: 0.9683\n",
            "Epoch 30/350\n",
            "11645/11645 [==============================] - 7s 579us/step - loss: 0.2224 - accuracy: 0.9409 - val_loss: 0.1349 - val_accuracy: 0.9697\n",
            "Epoch 31/350\n",
            "11645/11645 [==============================] - 7s 579us/step - loss: 0.2170 - accuracy: 0.9416 - val_loss: 0.1325 - val_accuracy: 0.9712\n",
            "Epoch 32/350\n",
            "11645/11645 [==============================] - 7s 580us/step - loss: 0.2168 - accuracy: 0.9428 - val_loss: 0.1316 - val_accuracy: 0.9664\n",
            "Epoch 33/350\n",
            "11645/11645 [==============================] - 7s 579us/step - loss: 0.2147 - accuracy: 0.9406 - val_loss: 0.1280 - val_accuracy: 0.9690\n",
            "Epoch 34/350\n",
            "11645/11645 [==============================] - 7s 579us/step - loss: 0.2055 - accuracy: 0.9439 - val_loss: 0.1289 - val_accuracy: 0.9705\n",
            "Epoch 35/350\n",
            "11645/11645 [==============================] - 7s 580us/step - loss: 0.2024 - accuracy: 0.9424 - val_loss: 0.1458 - val_accuracy: 0.9649\n",
            "Epoch 36/350\n",
            "11645/11645 [==============================] - 7s 582us/step - loss: 0.2013 - accuracy: 0.9439 - val_loss: 0.1233 - val_accuracy: 0.9727\n",
            "Epoch 37/350\n",
            "11645/11645 [==============================] - 7s 586us/step - loss: 0.1960 - accuracy: 0.9472 - val_loss: 0.1425 - val_accuracy: 0.9694\n",
            "Epoch 38/350\n",
            "11645/11645 [==============================] - 7s 577us/step - loss: 0.1882 - accuracy: 0.9500 - val_loss: 0.1243 - val_accuracy: 0.9679\n",
            "Epoch 39/350\n",
            "11645/11645 [==============================] - 7s 579us/step - loss: 0.1882 - accuracy: 0.9476 - val_loss: 0.1275 - val_accuracy: 0.9712\n",
            "Epoch 40/350\n",
            "11645/11645 [==============================] - 7s 577us/step - loss: 0.1931 - accuracy: 0.9440 - val_loss: 0.1209 - val_accuracy: 0.9727\n",
            "Epoch 41/350\n",
            "11645/11645 [==============================] - 7s 578us/step - loss: 0.1776 - accuracy: 0.9501 - val_loss: 0.1232 - val_accuracy: 0.9716\n",
            "Epoch 42/350\n",
            "11645/11645 [==============================] - 7s 578us/step - loss: 0.1842 - accuracy: 0.9478 - val_loss: 0.1250 - val_accuracy: 0.9701\n",
            "Epoch 43/350\n",
            "11645/11645 [==============================] - 7s 575us/step - loss: 0.1743 - accuracy: 0.9523 - val_loss: 0.1076 - val_accuracy: 0.9756\n",
            "Epoch 44/350\n",
            "11645/11645 [==============================] - 7s 579us/step - loss: 0.1776 - accuracy: 0.9513 - val_loss: 0.1265 - val_accuracy: 0.9705\n",
            "Epoch 45/350\n",
            "11645/11645 [==============================] - 7s 575us/step - loss: 0.1826 - accuracy: 0.9509 - val_loss: 0.1501 - val_accuracy: 0.9613\n",
            "Epoch 46/350\n",
            "11645/11645 [==============================] - 7s 573us/step - loss: 0.1722 - accuracy: 0.9527 - val_loss: 0.1166 - val_accuracy: 0.9731\n",
            "Epoch 47/350\n",
            "11645/11645 [==============================] - 7s 575us/step - loss: 0.1778 - accuracy: 0.9495 - val_loss: 0.1199 - val_accuracy: 0.9705\n",
            "Epoch 48/350\n",
            "11645/11645 [==============================] - 7s 575us/step - loss: 0.1641 - accuracy: 0.9539 - val_loss: 0.1162 - val_accuracy: 0.9731\n",
            "Epoch 49/350\n",
            "11645/11645 [==============================] - 7s 582us/step - loss: 0.1591 - accuracy: 0.9571 - val_loss: 0.1241 - val_accuracy: 0.9738\n",
            "Epoch 50/350\n",
            "11645/11645 [==============================] - 7s 575us/step - loss: 0.1613 - accuracy: 0.9550 - val_loss: 0.1209 - val_accuracy: 0.9723\n",
            "Epoch 51/350\n",
            "11645/11645 [==============================] - 7s 578us/step - loss: 0.1558 - accuracy: 0.9578 - val_loss: 0.1158 - val_accuracy: 0.9731\n",
            "Epoch 52/350\n",
            "11645/11645 [==============================] - 7s 578us/step - loss: 0.1614 - accuracy: 0.9525 - val_loss: 0.1127 - val_accuracy: 0.9734\n",
            "Epoch 53/350\n",
            "11645/11645 [==============================] - 7s 575us/step - loss: 0.1576 - accuracy: 0.9548 - val_loss: 0.1087 - val_accuracy: 0.9764\n",
            "Epoch 54/350\n",
            "11645/11645 [==============================] - 7s 574us/step - loss: 0.1531 - accuracy: 0.9543 - val_loss: 0.1087 - val_accuracy: 0.9749\n",
            "Epoch 55/350\n",
            "11645/11645 [==============================] - 7s 576us/step - loss: 0.1603 - accuracy: 0.9543 - val_loss: 0.1053 - val_accuracy: 0.9749\n",
            "Epoch 56/350\n",
            "11645/11645 [==============================] - 7s 575us/step - loss: 0.1483 - accuracy: 0.9604 - val_loss: 0.1114 - val_accuracy: 0.9745\n",
            "Epoch 57/350\n",
            "11645/11645 [==============================] - 7s 579us/step - loss: 0.1551 - accuracy: 0.9568 - val_loss: 0.1052 - val_accuracy: 0.9753\n",
            "Epoch 58/350\n",
            "11645/11645 [==============================] - 7s 578us/step - loss: 0.1496 - accuracy: 0.9594 - val_loss: 0.1043 - val_accuracy: 0.9731\n",
            "Epoch 59/350\n",
            "11645/11645 [==============================] - 7s 577us/step - loss: 0.1449 - accuracy: 0.9602 - val_loss: 0.1048 - val_accuracy: 0.9768\n",
            "Epoch 60/350\n",
            "11645/11645 [==============================] - 7s 578us/step - loss: 0.1414 - accuracy: 0.9601 - val_loss: 0.1007 - val_accuracy: 0.9753\n",
            "Epoch 61/350\n",
            "11645/11645 [==============================] - 7s 575us/step - loss: 0.1443 - accuracy: 0.9619 - val_loss: 0.0986 - val_accuracy: 0.9775\n",
            "Epoch 62/350\n",
            "11645/11645 [==============================] - 7s 578us/step - loss: 0.1402 - accuracy: 0.9596 - val_loss: 0.1005 - val_accuracy: 0.9775\n",
            "Epoch 63/350\n",
            "11645/11645 [==============================] - 7s 587us/step - loss: 0.1410 - accuracy: 0.9614 - val_loss: 0.1096 - val_accuracy: 0.9756\n",
            "Epoch 64/350\n",
            "11645/11645 [==============================] - 7s 578us/step - loss: 0.1454 - accuracy: 0.9599 - val_loss: 0.0996 - val_accuracy: 0.9771\n",
            "Epoch 65/350\n",
            "11645/11645 [==============================] - 7s 574us/step - loss: 0.1351 - accuracy: 0.9620 - val_loss: 0.1070 - val_accuracy: 0.9764\n",
            "Epoch 66/350\n",
            "11645/11645 [==============================] - 7s 574us/step - loss: 0.1356 - accuracy: 0.9620 - val_loss: 0.1184 - val_accuracy: 0.9675\n",
            "Epoch 67/350\n",
            "11645/11645 [==============================] - 7s 577us/step - loss: 0.1391 - accuracy: 0.9608 - val_loss: 0.1013 - val_accuracy: 0.9768\n",
            "Epoch 68/350\n",
            "11645/11645 [==============================] - 7s 573us/step - loss: 0.1427 - accuracy: 0.9602 - val_loss: 0.1109 - val_accuracy: 0.9745\n",
            "Epoch 69/350\n",
            "11645/11645 [==============================] - 7s 578us/step - loss: 0.1341 - accuracy: 0.9614 - val_loss: 0.1023 - val_accuracy: 0.9760\n",
            "Epoch 70/350\n",
            "11645/11645 [==============================] - 7s 577us/step - loss: 0.1251 - accuracy: 0.9649 - val_loss: 0.0990 - val_accuracy: 0.9753\n",
            "Epoch 71/350\n",
            "11645/11645 [==============================] - 7s 578us/step - loss: 0.1312 - accuracy: 0.9644 - val_loss: 0.0959 - val_accuracy: 0.9771\n",
            "Epoch 72/350\n",
            "11645/11645 [==============================] - 7s 574us/step - loss: 0.1348 - accuracy: 0.9599 - val_loss: 0.1009 - val_accuracy: 0.9764\n",
            "Epoch 73/350\n",
            "11645/11645 [==============================] - 7s 572us/step - loss: 0.1333 - accuracy: 0.9621 - val_loss: 0.1024 - val_accuracy: 0.9753\n",
            "Epoch 74/350\n",
            "11645/11645 [==============================] - 7s 576us/step - loss: 0.1275 - accuracy: 0.9648 - val_loss: 0.0967 - val_accuracy: 0.9775\n",
            "Epoch 75/350\n",
            "11645/11645 [==============================] - 7s 572us/step - loss: 0.1287 - accuracy: 0.9621 - val_loss: 0.0995 - val_accuracy: 0.9771\n",
            "Epoch 76/350\n",
            "11645/11645 [==============================] - 7s 573us/step - loss: 0.1276 - accuracy: 0.9647 - val_loss: 0.0980 - val_accuracy: 0.9790\n",
            "Epoch 77/350\n",
            "11645/11645 [==============================] - 7s 577us/step - loss: 0.1239 - accuracy: 0.9654 - val_loss: 0.1027 - val_accuracy: 0.9771\n",
            "Epoch 78/350\n",
            "11645/11645 [==============================] - 7s 572us/step - loss: 0.1309 - accuracy: 0.9654 - val_loss: 0.0953 - val_accuracy: 0.9782\n",
            "Epoch 79/350\n",
            "11645/11645 [==============================] - 7s 574us/step - loss: 0.1220 - accuracy: 0.9657 - val_loss: 0.1055 - val_accuracy: 0.9734\n",
            "Epoch 80/350\n",
            "11645/11645 [==============================] - 7s 573us/step - loss: 0.1266 - accuracy: 0.9641 - val_loss: 0.0978 - val_accuracy: 0.9764\n",
            "Epoch 81/350\n",
            "11645/11645 [==============================] - 7s 574us/step - loss: 0.1298 - accuracy: 0.9648 - val_loss: 0.0900 - val_accuracy: 0.9797\n",
            "Epoch 82/350\n",
            "11645/11645 [==============================] - 7s 582us/step - loss: 0.1242 - accuracy: 0.9669 - val_loss: 0.0907 - val_accuracy: 0.9779\n",
            "Epoch 83/350\n",
            "11645/11645 [==============================] - 7s 573us/step - loss: 0.1184 - accuracy: 0.9669 - val_loss: 0.0891 - val_accuracy: 0.9801\n",
            "Epoch 84/350\n",
            "11645/11645 [==============================] - 7s 571us/step - loss: 0.1196 - accuracy: 0.9681 - val_loss: 0.1011 - val_accuracy: 0.9768\n",
            "Epoch 85/350\n",
            "11645/11645 [==============================] - 7s 577us/step - loss: 0.1160 - accuracy: 0.9648 - val_loss: 0.1010 - val_accuracy: 0.9768\n",
            "Epoch 86/350\n",
            "11645/11645 [==============================] - 7s 580us/step - loss: 0.1206 - accuracy: 0.9663 - val_loss: 0.1025 - val_accuracy: 0.9756\n",
            "Epoch 87/350\n",
            "11645/11645 [==============================] - 7s 578us/step - loss: 0.1196 - accuracy: 0.9668 - val_loss: 0.0969 - val_accuracy: 0.9782\n",
            "Epoch 88/350\n",
            "11645/11645 [==============================] - 7s 576us/step - loss: 0.1217 - accuracy: 0.9659 - val_loss: 0.0980 - val_accuracy: 0.9760\n",
            "Epoch 89/350\n",
            "11645/11645 [==============================] - 7s 578us/step - loss: 0.1150 - accuracy: 0.9672 - val_loss: 0.0950 - val_accuracy: 0.9790\n",
            "Epoch 90/350\n",
            "11645/11645 [==============================] - 7s 577us/step - loss: 0.1154 - accuracy: 0.9669 - val_loss: 0.0922 - val_accuracy: 0.9790\n",
            "Epoch 91/350\n",
            "11645/11645 [==============================] - 7s 575us/step - loss: 0.1170 - accuracy: 0.9660 - val_loss: 0.0964 - val_accuracy: 0.9764\n",
            "Epoch 92/350\n",
            "11645/11645 [==============================] - 7s 577us/step - loss: 0.1104 - accuracy: 0.9669 - val_loss: 0.0931 - val_accuracy: 0.9779\n",
            "Epoch 93/350\n",
            "11645/11645 [==============================] - 7s 575us/step - loss: 0.1092 - accuracy: 0.9682 - val_loss: 0.0937 - val_accuracy: 0.9775\n",
            "Epoch 94/350\n",
            "11645/11645 [==============================] - 7s 576us/step - loss: 0.1115 - accuracy: 0.9687 - val_loss: 0.0938 - val_accuracy: 0.9790\n",
            "Epoch 95/350\n",
            "11645/11645 [==============================] - 7s 580us/step - loss: 0.1176 - accuracy: 0.9656 - val_loss: 0.0906 - val_accuracy: 0.9775\n",
            "Epoch 96/350\n",
            "11645/11645 [==============================] - 7s 575us/step - loss: 0.1070 - accuracy: 0.9686 - val_loss: 0.0853 - val_accuracy: 0.9775\n",
            "Epoch 97/350\n",
            "11645/11645 [==============================] - 7s 576us/step - loss: 0.1179 - accuracy: 0.9659 - val_loss: 0.1005 - val_accuracy: 0.9779\n",
            "Epoch 98/350\n",
            "11645/11645 [==============================] - 7s 577us/step - loss: 0.1116 - accuracy: 0.9669 - val_loss: 0.0991 - val_accuracy: 0.9779\n",
            "Epoch 99/350\n",
            "11645/11645 [==============================] - 7s 573us/step - loss: 0.1149 - accuracy: 0.9683 - val_loss: 0.0986 - val_accuracy: 0.9786\n",
            "Epoch 100/350\n",
            "11645/11645 [==============================] - 7s 575us/step - loss: 0.1128 - accuracy: 0.9669 - val_loss: 0.0893 - val_accuracy: 0.9797\n",
            "Epoch 101/350\n",
            "11645/11645 [==============================] - 7s 577us/step - loss: 0.1071 - accuracy: 0.9690 - val_loss: 0.0912 - val_accuracy: 0.9775\n",
            "Epoch 102/350\n",
            "11645/11645 [==============================] - 7s 577us/step - loss: 0.1056 - accuracy: 0.9689 - val_loss: 0.0988 - val_accuracy: 0.9779\n",
            "Epoch 103/350\n",
            "11645/11645 [==============================] - 7s 579us/step - loss: 0.1024 - accuracy: 0.9695 - val_loss: 0.0999 - val_accuracy: 0.9768\n",
            "Epoch 104/350\n",
            "11645/11645 [==============================] - 7s 579us/step - loss: 0.1074 - accuracy: 0.9682 - val_loss: 0.0945 - val_accuracy: 0.9768\n",
            "Epoch 105/350\n",
            "11645/11645 [==============================] - 7s 577us/step - loss: 0.1102 - accuracy: 0.9681 - val_loss: 0.0964 - val_accuracy: 0.9760\n",
            "Epoch 106/350\n",
            "11645/11645 [==============================] - 7s 578us/step - loss: 0.1038 - accuracy: 0.9721 - val_loss: 0.0907 - val_accuracy: 0.9779\n",
            "Epoch 107/350\n",
            "11645/11645 [==============================] - 7s 582us/step - loss: 0.1027 - accuracy: 0.9717 - val_loss: 0.1013 - val_accuracy: 0.9756\n",
            "Epoch 108/350\n",
            "11645/11645 [==============================] - 7s 576us/step - loss: 0.1110 - accuracy: 0.9688 - val_loss: 0.0937 - val_accuracy: 0.9797\n",
            "Epoch 109/350\n",
            "11645/11645 [==============================] - 7s 586us/step - loss: 0.1058 - accuracy: 0.9700 - val_loss: 0.0941 - val_accuracy: 0.9775\n",
            "Epoch 110/350\n",
            "11645/11645 [==============================] - 7s 578us/step - loss: 0.1026 - accuracy: 0.9679 - val_loss: 0.0893 - val_accuracy: 0.9775\n",
            "Epoch 111/350\n",
            "11645/11645 [==============================] - 7s 572us/step - loss: 0.0978 - accuracy: 0.9723 - val_loss: 0.0995 - val_accuracy: 0.9756\n",
            "Epoch 112/350\n",
            "11645/11645 [==============================] - 7s 576us/step - loss: 0.0932 - accuracy: 0.9735 - val_loss: 0.0969 - val_accuracy: 0.9768\n",
            "Epoch 113/350\n",
            "11645/11645 [==============================] - 7s 576us/step - loss: 0.0983 - accuracy: 0.9710 - val_loss: 0.0936 - val_accuracy: 0.9764\n",
            "Epoch 114/350\n",
            "11645/11645 [==============================] - 7s 576us/step - loss: 0.0978 - accuracy: 0.9730 - val_loss: 0.1293 - val_accuracy: 0.9679\n",
            "Epoch 115/350\n",
            "11645/11645 [==============================] - 7s 575us/step - loss: 0.1038 - accuracy: 0.9697 - val_loss: 0.0913 - val_accuracy: 0.9786\n",
            "Epoch 116/350\n",
            "11645/11645 [==============================] - 7s 573us/step - loss: 0.0972 - accuracy: 0.9720 - val_loss: 0.0959 - val_accuracy: 0.9775\n",
            "Epoch 117/350\n",
            "11645/11645 [==============================] - 7s 579us/step - loss: 0.1012 - accuracy: 0.9732 - val_loss: 0.0996 - val_accuracy: 0.9775\n",
            "Epoch 118/350\n",
            "11645/11645 [==============================] - 7s 572us/step - loss: 0.0975 - accuracy: 0.9721 - val_loss: 0.0944 - val_accuracy: 0.9768\n",
            "Epoch 119/350\n",
            "11645/11645 [==============================] - 7s 575us/step - loss: 0.1029 - accuracy: 0.9704 - val_loss: 0.1000 - val_accuracy: 0.9753\n",
            "Epoch 120/350\n",
            "11645/11645 [==============================] - 7s 576us/step - loss: 0.0911 - accuracy: 0.9724 - val_loss: 0.0911 - val_accuracy: 0.9786\n",
            "Epoch 121/350\n",
            "11645/11645 [==============================] - 7s 578us/step - loss: 0.0904 - accuracy: 0.9748 - val_loss: 0.0968 - val_accuracy: 0.9775\n",
            "Epoch 122/350\n",
            "11645/11645 [==============================] - 7s 573us/step - loss: 0.0948 - accuracy: 0.9717 - val_loss: 0.0953 - val_accuracy: 0.9771\n",
            "Epoch 123/350\n",
            "11645/11645 [==============================] - 7s 572us/step - loss: 0.0948 - accuracy: 0.9726 - val_loss: 0.0914 - val_accuracy: 0.9801\n",
            "Epoch 124/350\n",
            "11645/11645 [==============================] - 7s 573us/step - loss: 0.0987 - accuracy: 0.9713 - val_loss: 0.0919 - val_accuracy: 0.9786\n",
            "Epoch 125/350\n",
            "11645/11645 [==============================] - 7s 574us/step - loss: 0.0968 - accuracy: 0.9723 - val_loss: 0.0895 - val_accuracy: 0.9790\n",
            "Epoch 126/350\n",
            "11645/11645 [==============================] - 7s 579us/step - loss: 0.0934 - accuracy: 0.9731 - val_loss: 0.1017 - val_accuracy: 0.9786\n",
            "Epoch 127/350\n",
            "11645/11645 [==============================] - 7s 576us/step - loss: 0.0888 - accuracy: 0.9745 - val_loss: 0.0907 - val_accuracy: 0.9801\n",
            "Epoch 128/350\n",
            "11645/11645 [==============================] - 7s 581us/step - loss: 0.0924 - accuracy: 0.9736 - val_loss: 0.0955 - val_accuracy: 0.9786\n",
            "Epoch 129/350\n",
            "11645/11645 [==============================] - 7s 578us/step - loss: 0.0863 - accuracy: 0.9748 - val_loss: 0.0926 - val_accuracy: 0.9790\n",
            "Epoch 130/350\n",
            "11645/11645 [==============================] - 7s 575us/step - loss: 0.0913 - accuracy: 0.9728 - val_loss: 0.0940 - val_accuracy: 0.9775\n",
            "Epoch 131/350\n",
            "11645/11645 [==============================] - 7s 572us/step - loss: 0.0930 - accuracy: 0.9730 - val_loss: 0.0874 - val_accuracy: 0.9804\n",
            "Epoch 132/350\n",
            "11645/11645 [==============================] - 7s 571us/step - loss: 0.0945 - accuracy: 0.9738 - val_loss: 0.0943 - val_accuracy: 0.9790\n",
            "Epoch 133/350\n",
            "11645/11645 [==============================] - 7s 576us/step - loss: 0.0875 - accuracy: 0.9737 - val_loss: 0.0984 - val_accuracy: 0.9790\n",
            "Epoch 134/350\n",
            "11645/11645 [==============================] - 7s 574us/step - loss: 0.0889 - accuracy: 0.9762 - val_loss: 0.0929 - val_accuracy: 0.9793\n",
            "Epoch 135/350\n",
            "11645/11645 [==============================] - 7s 574us/step - loss: 0.0927 - accuracy: 0.9736 - val_loss: 0.1014 - val_accuracy: 0.9779\n",
            "Epoch 136/350\n",
            "11645/11645 [==============================] - 7s 577us/step - loss: 0.0869 - accuracy: 0.9748 - val_loss: 0.0950 - val_accuracy: 0.9779\n",
            "Epoch 137/350\n",
            "11645/11645 [==============================] - 7s 571us/step - loss: 0.0927 - accuracy: 0.9726 - val_loss: 0.0912 - val_accuracy: 0.9797\n",
            "Epoch 138/350\n",
            "11645/11645 [==============================] - 7s 573us/step - loss: 0.0799 - accuracy: 0.9760 - val_loss: 0.0894 - val_accuracy: 0.9812\n",
            "Epoch 139/350\n",
            "11645/11645 [==============================] - 7s 574us/step - loss: 0.0888 - accuracy: 0.9739 - val_loss: 0.0960 - val_accuracy: 0.9768\n",
            "Epoch 140/350\n",
            "11645/11645 [==============================] - 7s 576us/step - loss: 0.0862 - accuracy: 0.9758 - val_loss: 0.0958 - val_accuracy: 0.9782\n",
            "Epoch 141/350\n",
            "11645/11645 [==============================] - 7s 573us/step - loss: 0.0824 - accuracy: 0.9761 - val_loss: 0.0918 - val_accuracy: 0.9808\n",
            "Epoch 142/350\n",
            "11645/11645 [==============================] - 7s 575us/step - loss: 0.0865 - accuracy: 0.9741 - val_loss: 0.0936 - val_accuracy: 0.9797\n",
            "Epoch 143/350\n",
            "11645/11645 [==============================] - 7s 578us/step - loss: 0.0898 - accuracy: 0.9726 - val_loss: 0.0866 - val_accuracy: 0.9801\n",
            "Epoch 144/350\n",
            "11645/11645 [==============================] - 7s 570us/step - loss: 0.0880 - accuracy: 0.9748 - val_loss: 0.0869 - val_accuracy: 0.9804\n",
            "Epoch 145/350\n",
            "11645/11645 [==============================] - 7s 569us/step - loss: 0.0760 - accuracy: 0.9787 - val_loss: 0.1143 - val_accuracy: 0.9771\n",
            "Epoch 146/350\n",
            "11645/11645 [==============================] - 7s 571us/step - loss: 0.0812 - accuracy: 0.9760 - val_loss: 0.0935 - val_accuracy: 0.9786\n",
            "Epoch 147/350\n",
            "11645/11645 [==============================] - 7s 572us/step - loss: 0.0777 - accuracy: 0.9772 - val_loss: 0.0964 - val_accuracy: 0.9782\n",
            "Epoch 148/350\n",
            "11645/11645 [==============================] - 7s 569us/step - loss: 0.0821 - accuracy: 0.9754 - val_loss: 0.1078 - val_accuracy: 0.9768\n",
            "Epoch 149/350\n",
            "11645/11645 [==============================] - 7s 576us/step - loss: 0.0828 - accuracy: 0.9781 - val_loss: 0.0996 - val_accuracy: 0.9793\n",
            "Epoch 150/350\n",
            "11645/11645 [==============================] - 7s 577us/step - loss: 0.0857 - accuracy: 0.9773 - val_loss: 0.0918 - val_accuracy: 0.9779\n",
            "Epoch 151/350\n",
            "11645/11645 [==============================] - 7s 576us/step - loss: 0.0812 - accuracy: 0.9771 - val_loss: 0.0962 - val_accuracy: 0.9793\n",
            "Epoch 152/350\n",
            "11645/11645 [==============================] - 7s 577us/step - loss: 0.0873 - accuracy: 0.9742 - val_loss: 0.0992 - val_accuracy: 0.9797\n",
            "Epoch 153/350\n",
            "11645/11645 [==============================] - 7s 575us/step - loss: 0.0798 - accuracy: 0.9763 - val_loss: 0.0986 - val_accuracy: 0.9790\n",
            "Epoch 154/350\n",
            "11645/11645 [==============================] - 7s 576us/step - loss: 0.0829 - accuracy: 0.9758 - val_loss: 0.0941 - val_accuracy: 0.9771\n",
            "Epoch 155/350\n",
            "11645/11645 [==============================] - 7s 579us/step - loss: 0.0684 - accuracy: 0.9808 - val_loss: 0.1004 - val_accuracy: 0.9779\n",
            "Epoch 156/350\n",
            "11645/11645 [==============================] - 7s 581us/step - loss: 0.0768 - accuracy: 0.9771 - val_loss: 0.1084 - val_accuracy: 0.9742\n",
            "Epoch 157/350\n",
            "11645/11645 [==============================] - 7s 577us/step - loss: 0.0849 - accuracy: 0.9743 - val_loss: 0.0919 - val_accuracy: 0.9790\n",
            "Epoch 158/350\n",
            "11645/11645 [==============================] - 7s 576us/step - loss: 0.0763 - accuracy: 0.9782 - val_loss: 0.0902 - val_accuracy: 0.9790\n",
            "Epoch 159/350\n",
            "11645/11645 [==============================] - 7s 580us/step - loss: 0.0802 - accuracy: 0.9762 - val_loss: 0.0920 - val_accuracy: 0.9804\n",
            "Epoch 160/350\n",
            "11645/11645 [==============================] - 7s 580us/step - loss: 0.0745 - accuracy: 0.9789 - val_loss: 0.0925 - val_accuracy: 0.9782\n",
            "Epoch 161/350\n",
            "11645/11645 [==============================] - 7s 574us/step - loss: 0.0816 - accuracy: 0.9754 - val_loss: 0.0902 - val_accuracy: 0.9804\n",
            "Epoch 162/350\n",
            "11645/11645 [==============================] - 7s 575us/step - loss: 0.0851 - accuracy: 0.9756 - val_loss: 0.0937 - val_accuracy: 0.9782\n",
            "Epoch 163/350\n",
            "11645/11645 [==============================] - 7s 578us/step - loss: 0.0794 - accuracy: 0.9772 - val_loss: 0.0962 - val_accuracy: 0.9775\n",
            "Epoch 164/350\n",
            "11645/11645 [==============================] - 7s 574us/step - loss: 0.0737 - accuracy: 0.9793 - val_loss: 0.1031 - val_accuracy: 0.9786\n",
            "Epoch 165/350\n",
            "11645/11645 [==============================] - 7s 575us/step - loss: 0.0774 - accuracy: 0.9774 - val_loss: 0.0947 - val_accuracy: 0.9801\n",
            "Epoch 166/350\n",
            "11645/11645 [==============================] - 7s 574us/step - loss: 0.0792 - accuracy: 0.9788 - val_loss: 0.0890 - val_accuracy: 0.9812\n",
            "Epoch 167/350\n",
            "11645/11645 [==============================] - 7s 578us/step - loss: 0.0751 - accuracy: 0.9782 - val_loss: 0.1042 - val_accuracy: 0.9775\n",
            "Epoch 168/350\n",
            "11645/11645 [==============================] - 7s 577us/step - loss: 0.0778 - accuracy: 0.9766 - val_loss: 0.1040 - val_accuracy: 0.9786\n",
            "Epoch 169/350\n",
            "11645/11645 [==============================] - 7s 577us/step - loss: 0.0787 - accuracy: 0.9760 - val_loss: 0.0921 - val_accuracy: 0.9801\n",
            "Epoch 170/350\n",
            "11645/11645 [==============================] - 7s 576us/step - loss: 0.0735 - accuracy: 0.9792 - val_loss: 0.1137 - val_accuracy: 0.9771\n",
            "Epoch 171/350\n",
            "11645/11645 [==============================] - 7s 578us/step - loss: 0.0733 - accuracy: 0.9793 - val_loss: 0.0981 - val_accuracy: 0.9786\n",
            "Epoch 172/350\n",
            "11645/11645 [==============================] - 7s 578us/step - loss: 0.0753 - accuracy: 0.9793 - val_loss: 0.0950 - val_accuracy: 0.9790\n",
            "Epoch 173/350\n",
            "11645/11645 [==============================] - 7s 585us/step - loss: 0.0831 - accuracy: 0.9754 - val_loss: 0.0907 - val_accuracy: 0.9793\n",
            "Epoch 174/350\n",
            "11645/11645 [==============================] - 7s 577us/step - loss: 0.0748 - accuracy: 0.9775 - val_loss: 0.0977 - val_accuracy: 0.9793\n",
            "Epoch 175/350\n",
            "11645/11645 [==============================] - 7s 578us/step - loss: 0.0694 - accuracy: 0.9791 - val_loss: 0.0955 - val_accuracy: 0.9793\n",
            "Epoch 176/350\n",
            "11645/11645 [==============================] - 7s 577us/step - loss: 0.0700 - accuracy: 0.9802 - val_loss: 0.1012 - val_accuracy: 0.9786\n",
            "Epoch 177/350\n",
            "11645/11645 [==============================] - 7s 576us/step - loss: 0.0717 - accuracy: 0.9773 - val_loss: 0.0936 - val_accuracy: 0.9808\n",
            "Epoch 178/350\n",
            "11645/11645 [==============================] - 7s 575us/step - loss: 0.0768 - accuracy: 0.9764 - val_loss: 0.1043 - val_accuracy: 0.9793\n",
            "Epoch 179/350\n",
            "11645/11645 [==============================] - 7s 575us/step - loss: 0.0745 - accuracy: 0.9785 - val_loss: 0.0938 - val_accuracy: 0.9815\n",
            "Epoch 180/350\n",
            "11645/11645 [==============================] - 7s 578us/step - loss: 0.0804 - accuracy: 0.9751 - val_loss: 0.0988 - val_accuracy: 0.9793\n",
            "Epoch 181/350\n",
            "11645/11645 [==============================] - 7s 576us/step - loss: 0.0742 - accuracy: 0.9775 - val_loss: 0.0932 - val_accuracy: 0.9797\n",
            "Epoch 182/350\n",
            "11645/11645 [==============================] - 7s 578us/step - loss: 0.0667 - accuracy: 0.9811 - val_loss: 0.0941 - val_accuracy: 0.9797\n",
            "Epoch 183/350\n",
            "11645/11645 [==============================] - 7s 575us/step - loss: 0.0715 - accuracy: 0.9784 - val_loss: 0.0974 - val_accuracy: 0.9797\n",
            "Epoch 184/350\n",
            "11645/11645 [==============================] - 7s 575us/step - loss: 0.0760 - accuracy: 0.9770 - val_loss: 0.0958 - val_accuracy: 0.9815\n",
            "Epoch 185/350\n",
            "11645/11645 [==============================] - 7s 580us/step - loss: 0.0734 - accuracy: 0.9790 - val_loss: 0.0893 - val_accuracy: 0.9801\n",
            "Epoch 186/350\n",
            "11645/11645 [==============================] - 7s 575us/step - loss: 0.0710 - accuracy: 0.9785 - val_loss: 0.0950 - val_accuracy: 0.9790\n",
            "Epoch 187/350\n",
            "11645/11645 [==============================] - 7s 574us/step - loss: 0.0690 - accuracy: 0.9803 - val_loss: 0.0955 - val_accuracy: 0.9801\n",
            "Epoch 188/350\n",
            "11645/11645 [==============================] - 7s 575us/step - loss: 0.0765 - accuracy: 0.9757 - val_loss: 0.0883 - val_accuracy: 0.9812\n",
            "Epoch 189/350\n",
            "11645/11645 [==============================] - 7s 577us/step - loss: 0.0684 - accuracy: 0.9801 - val_loss: 0.0987 - val_accuracy: 0.9786\n",
            "Epoch 190/350\n",
            "11645/11645 [==============================] - 7s 576us/step - loss: 0.0710 - accuracy: 0.9799 - val_loss: 0.0966 - val_accuracy: 0.9812\n",
            "Epoch 191/350\n",
            "11645/11645 [==============================] - 7s 574us/step - loss: 0.0722 - accuracy: 0.9781 - val_loss: 0.0963 - val_accuracy: 0.9797\n",
            "Epoch 192/350\n",
            "11645/11645 [==============================] - 7s 575us/step - loss: 0.0720 - accuracy: 0.9778 - val_loss: 0.0870 - val_accuracy: 0.9819\n",
            "Epoch 193/350\n",
            "11645/11645 [==============================] - 7s 576us/step - loss: 0.0772 - accuracy: 0.9776 - val_loss: 0.0937 - val_accuracy: 0.9812\n",
            "Epoch 194/350\n",
            "11645/11645 [==============================] - 7s 573us/step - loss: 0.0712 - accuracy: 0.9785 - val_loss: 0.0940 - val_accuracy: 0.9804\n",
            "Epoch 195/350\n",
            "11645/11645 [==============================] - 7s 574us/step - loss: 0.0726 - accuracy: 0.9791 - val_loss: 0.0929 - val_accuracy: 0.9797\n",
            "Epoch 196/350\n",
            "11645/11645 [==============================] - 7s 573us/step - loss: 0.0713 - accuracy: 0.9791 - val_loss: 0.0965 - val_accuracy: 0.9812\n",
            "Epoch 197/350\n",
            "11645/11645 [==============================] - 7s 576us/step - loss: 0.0683 - accuracy: 0.9820 - val_loss: 0.0970 - val_accuracy: 0.9815\n",
            "Epoch 198/350\n",
            "11645/11645 [==============================] - 7s 575us/step - loss: 0.0683 - accuracy: 0.9808 - val_loss: 0.0929 - val_accuracy: 0.9812\n",
            "Epoch 199/350\n",
            "11645/11645 [==============================] - 7s 576us/step - loss: 0.0733 - accuracy: 0.9787 - val_loss: 0.0977 - val_accuracy: 0.9793\n",
            "Epoch 200/350\n",
            "11645/11645 [==============================] - 7s 579us/step - loss: 0.0744 - accuracy: 0.9784 - val_loss: 0.0975 - val_accuracy: 0.9808\n",
            "Epoch 201/350\n",
            "11645/11645 [==============================] - 7s 583us/step - loss: 0.0647 - accuracy: 0.9809 - val_loss: 0.0957 - val_accuracy: 0.9797\n",
            "Epoch 202/350\n",
            "11645/11645 [==============================] - 7s 589us/step - loss: 0.0659 - accuracy: 0.9802 - val_loss: 0.0916 - val_accuracy: 0.9808\n",
            "Epoch 203/350\n",
            "11645/11645 [==============================] - 7s 575us/step - loss: 0.0663 - accuracy: 0.9813 - val_loss: 0.0959 - val_accuracy: 0.9797\n",
            "Epoch 204/350\n",
            "11645/11645 [==============================] - 7s 577us/step - loss: 0.0661 - accuracy: 0.9805 - val_loss: 0.0966 - val_accuracy: 0.9801\n",
            "Epoch 205/350\n",
            "11645/11645 [==============================] - 7s 573us/step - loss: 0.0642 - accuracy: 0.9824 - val_loss: 0.0963 - val_accuracy: 0.9797\n",
            "Epoch 206/350\n",
            "11645/11645 [==============================] - 7s 577us/step - loss: 0.0705 - accuracy: 0.9791 - val_loss: 0.0926 - val_accuracy: 0.9808\n",
            "Epoch 207/350\n",
            "11645/11645 [==============================] - 7s 574us/step - loss: 0.0619 - accuracy: 0.9827 - val_loss: 0.0952 - val_accuracy: 0.9801\n",
            "Epoch 208/350\n",
            "11645/11645 [==============================] - 7s 577us/step - loss: 0.0749 - accuracy: 0.9789 - val_loss: 0.0887 - val_accuracy: 0.9819\n",
            "Epoch 209/350\n",
            "11645/11645 [==============================] - 7s 573us/step - loss: 0.0654 - accuracy: 0.9805 - val_loss: 0.0906 - val_accuracy: 0.9804\n",
            "Epoch 210/350\n",
            "11645/11645 [==============================] - 7s 573us/step - loss: 0.0591 - accuracy: 0.9841 - val_loss: 0.0969 - val_accuracy: 0.9815\n",
            "Epoch 211/350\n",
            "11645/11645 [==============================] - 7s 578us/step - loss: 0.0694 - accuracy: 0.9783 - val_loss: 0.1002 - val_accuracy: 0.9797\n",
            "Epoch 212/350\n",
            "11645/11645 [==============================] - 7s 576us/step - loss: 0.0597 - accuracy: 0.9821 - val_loss: 0.0936 - val_accuracy: 0.9808\n",
            "Epoch 213/350\n",
            "11645/11645 [==============================] - 7s 577us/step - loss: 0.0664 - accuracy: 0.9789 - val_loss: 0.0947 - val_accuracy: 0.9819\n",
            "Epoch 214/350\n",
            "11645/11645 [==============================] - 7s 575us/step - loss: 0.0654 - accuracy: 0.9802 - val_loss: 0.0934 - val_accuracy: 0.9823\n",
            "Epoch 215/350\n",
            "11645/11645 [==============================] - 7s 576us/step - loss: 0.0605 - accuracy: 0.9822 - val_loss: 0.0955 - val_accuracy: 0.9819\n",
            "Epoch 216/350\n",
            "11645/11645 [==============================] - 7s 576us/step - loss: 0.0639 - accuracy: 0.9800 - val_loss: 0.0926 - val_accuracy: 0.9815\n",
            "Epoch 217/350\n",
            "11645/11645 [==============================] - 7s 574us/step - loss: 0.0613 - accuracy: 0.9826 - val_loss: 0.1041 - val_accuracy: 0.9815\n",
            "Epoch 218/350\n",
            "11645/11645 [==============================] - 7s 580us/step - loss: 0.0676 - accuracy: 0.9799 - val_loss: 0.0941 - val_accuracy: 0.9815\n",
            "Epoch 219/350\n",
            "11645/11645 [==============================] - 7s 578us/step - loss: 0.0635 - accuracy: 0.9821 - val_loss: 0.1001 - val_accuracy: 0.9804\n",
            "Epoch 220/350\n",
            "11645/11645 [==============================] - 7s 575us/step - loss: 0.0632 - accuracy: 0.9818 - val_loss: 0.0942 - val_accuracy: 0.9793\n",
            "Epoch 221/350\n",
            "11645/11645 [==============================] - 7s 578us/step - loss: 0.0607 - accuracy: 0.9824 - val_loss: 0.0912 - val_accuracy: 0.9804\n",
            "Epoch 222/350\n",
            "11645/11645 [==============================] - 7s 574us/step - loss: 0.0545 - accuracy: 0.9835 - val_loss: 0.0916 - val_accuracy: 0.9804\n",
            "Epoch 223/350\n",
            "11645/11645 [==============================] - 7s 578us/step - loss: 0.0623 - accuracy: 0.9816 - val_loss: 0.0937 - val_accuracy: 0.9819\n",
            "Epoch 224/350\n",
            "11645/11645 [==============================] - 7s 573us/step - loss: 0.0674 - accuracy: 0.9799 - val_loss: 0.0965 - val_accuracy: 0.9790\n",
            "Epoch 225/350\n",
            "11645/11645 [==============================] - 7s 573us/step - loss: 0.0672 - accuracy: 0.9811 - val_loss: 0.0972 - val_accuracy: 0.9797\n",
            "Epoch 226/350\n",
            "11645/11645 [==============================] - 7s 574us/step - loss: 0.0558 - accuracy: 0.9834 - val_loss: 0.1014 - val_accuracy: 0.9812\n",
            "Epoch 227/350\n",
            "11645/11645 [==============================] - 7s 577us/step - loss: 0.0577 - accuracy: 0.9831 - val_loss: 0.0940 - val_accuracy: 0.9790\n",
            "Epoch 228/350\n",
            "11645/11645 [==============================] - 7s 580us/step - loss: 0.0681 - accuracy: 0.9805 - val_loss: 0.0958 - val_accuracy: 0.9797\n",
            "Epoch 229/350\n",
            "11645/11645 [==============================] - 7s 575us/step - loss: 0.0639 - accuracy: 0.9805 - val_loss: 0.0980 - val_accuracy: 0.9793\n",
            "Epoch 230/350\n",
            "11645/11645 [==============================] - 7s 575us/step - loss: 0.0595 - accuracy: 0.9827 - val_loss: 0.0979 - val_accuracy: 0.9808\n",
            "Epoch 231/350\n",
            "11645/11645 [==============================] - 7s 572us/step - loss: 0.0606 - accuracy: 0.9820 - val_loss: 0.0928 - val_accuracy: 0.9823\n",
            "Epoch 232/350\n",
            "11645/11645 [==============================] - 7s 572us/step - loss: 0.0555 - accuracy: 0.9833 - val_loss: 0.0976 - val_accuracy: 0.9801\n",
            "Epoch 233/350\n",
            "11645/11645 [==============================] - 7s 575us/step - loss: 0.0651 - accuracy: 0.9815 - val_loss: 0.0989 - val_accuracy: 0.9801\n",
            "Epoch 234/350\n",
            "11645/11645 [==============================] - 7s 579us/step - loss: 0.0627 - accuracy: 0.9830 - val_loss: 0.1011 - val_accuracy: 0.9801\n",
            "Epoch 235/350\n",
            "11645/11645 [==============================] - 7s 579us/step - loss: 0.0569 - accuracy: 0.9835 - val_loss: 0.1004 - val_accuracy: 0.9801\n",
            "Epoch 236/350\n",
            "11645/11645 [==============================] - 7s 576us/step - loss: 0.0615 - accuracy: 0.9823 - val_loss: 0.0881 - val_accuracy: 0.9819\n",
            "Epoch 237/350\n",
            "11645/11645 [==============================] - 7s 575us/step - loss: 0.0592 - accuracy: 0.9805 - val_loss: 0.0980 - val_accuracy: 0.9801\n",
            "Epoch 238/350\n",
            "11645/11645 [==============================] - 7s 575us/step - loss: 0.0612 - accuracy: 0.9817 - val_loss: 0.0925 - val_accuracy: 0.9819\n",
            "Epoch 239/350\n",
            "11645/11645 [==============================] - 7s 575us/step - loss: 0.0609 - accuracy: 0.9830 - val_loss: 0.0958 - val_accuracy: 0.9797\n",
            "Epoch 240/350\n",
            "11645/11645 [==============================] - 7s 577us/step - loss: 0.0587 - accuracy: 0.9830 - val_loss: 0.0988 - val_accuracy: 0.9808\n",
            "Epoch 241/350\n",
            "11645/11645 [==============================] - 7s 572us/step - loss: 0.0572 - accuracy: 0.9826 - val_loss: 0.1005 - val_accuracy: 0.9819\n",
            "Epoch 242/350\n",
            "11645/11645 [==============================] - 7s 575us/step - loss: 0.0640 - accuracy: 0.9815 - val_loss: 0.1021 - val_accuracy: 0.9801\n",
            "Epoch 243/350\n",
            "11645/11645 [==============================] - 7s 575us/step - loss: 0.0589 - accuracy: 0.9826 - val_loss: 0.0953 - val_accuracy: 0.9797\n",
            "Epoch 244/350\n",
            "11645/11645 [==============================] - 7s 574us/step - loss: 0.0569 - accuracy: 0.9842 - val_loss: 0.0983 - val_accuracy: 0.9782\n",
            "Epoch 245/350\n",
            "11645/11645 [==============================] - 7s 573us/step - loss: 0.0536 - accuracy: 0.9842 - val_loss: 0.1013 - val_accuracy: 0.9819\n",
            "Epoch 246/350\n",
            "11645/11645 [==============================] - 7s 579us/step - loss: 0.0554 - accuracy: 0.9833 - val_loss: 0.0972 - val_accuracy: 0.9815\n",
            "Epoch 247/350\n",
            "11645/11645 [==============================] - 7s 576us/step - loss: 0.0605 - accuracy: 0.9826 - val_loss: 0.1062 - val_accuracy: 0.9793\n",
            "Epoch 248/350\n",
            "11645/11645 [==============================] - 7s 586us/step - loss: 0.0647 - accuracy: 0.9812 - val_loss: 0.0937 - val_accuracy: 0.9812\n",
            "Epoch 249/350\n",
            "11645/11645 [==============================] - 7s 574us/step - loss: 0.0632 - accuracy: 0.9823 - val_loss: 0.0942 - val_accuracy: 0.9808\n",
            "Epoch 250/350\n",
            "11645/11645 [==============================] - 7s 574us/step - loss: 0.0578 - accuracy: 0.9815 - val_loss: 0.0943 - val_accuracy: 0.9815\n",
            "Epoch 251/350\n",
            "11645/11645 [==============================] - 7s 576us/step - loss: 0.0591 - accuracy: 0.9821 - val_loss: 0.0966 - val_accuracy: 0.9797\n",
            "Epoch 252/350\n",
            "11645/11645 [==============================] - 7s 578us/step - loss: 0.0588 - accuracy: 0.9830 - val_loss: 0.0924 - val_accuracy: 0.9819\n",
            "Epoch 253/350\n",
            "11645/11645 [==============================] - 7s 581us/step - loss: 0.0592 - accuracy: 0.9829 - val_loss: 0.1100 - val_accuracy: 0.9790\n",
            "Epoch 254/350\n",
            "11645/11645 [==============================] - 7s 577us/step - loss: 0.0603 - accuracy: 0.9817 - val_loss: 0.0991 - val_accuracy: 0.9793\n",
            "Epoch 255/350\n",
            "11645/11645 [==============================] - 7s 579us/step - loss: 0.0616 - accuracy: 0.9809 - val_loss: 0.1069 - val_accuracy: 0.9804\n",
            "Epoch 256/350\n",
            "11645/11645 [==============================] - 7s 575us/step - loss: 0.0540 - accuracy: 0.9839 - val_loss: 0.1012 - val_accuracy: 0.9793\n",
            "Epoch 257/350\n",
            "11645/11645 [==============================] - 7s 575us/step - loss: 0.0524 - accuracy: 0.9851 - val_loss: 0.1021 - val_accuracy: 0.9834\n",
            "Epoch 258/350\n",
            "11645/11645 [==============================] - 7s 578us/step - loss: 0.0543 - accuracy: 0.9828 - val_loss: 0.0940 - val_accuracy: 0.9804\n",
            "Epoch 259/350\n",
            "11645/11645 [==============================] - 7s 572us/step - loss: 0.0544 - accuracy: 0.9846 - val_loss: 0.1016 - val_accuracy: 0.9804\n",
            "Epoch 260/350\n",
            "11645/11645 [==============================] - 7s 575us/step - loss: 0.0617 - accuracy: 0.9811 - val_loss: 0.1023 - val_accuracy: 0.9804\n",
            "Epoch 261/350\n",
            "11645/11645 [==============================] - 7s 575us/step - loss: 0.0553 - accuracy: 0.9835 - val_loss: 0.1016 - val_accuracy: 0.9823\n",
            "Epoch 262/350\n",
            "11645/11645 [==============================] - 7s 579us/step - loss: 0.0578 - accuracy: 0.9836 - val_loss: 0.1001 - val_accuracy: 0.9812\n",
            "Epoch 263/350\n",
            "11645/11645 [==============================] - 7s 579us/step - loss: 0.0549 - accuracy: 0.9842 - val_loss: 0.1026 - val_accuracy: 0.9812\n",
            "Epoch 264/350\n",
            "11645/11645 [==============================] - 7s 580us/step - loss: 0.0535 - accuracy: 0.9843 - val_loss: 0.0997 - val_accuracy: 0.9808\n",
            "Epoch 265/350\n",
            "11645/11645 [==============================] - 7s 575us/step - loss: 0.0586 - accuracy: 0.9826 - val_loss: 0.0928 - val_accuracy: 0.9823\n",
            "Epoch 266/350\n",
            "11645/11645 [==============================] - 7s 572us/step - loss: 0.0605 - accuracy: 0.9808 - val_loss: 0.0967 - val_accuracy: 0.9801\n",
            "Epoch 267/350\n",
            "11645/11645 [==============================] - 7s 575us/step - loss: 0.0525 - accuracy: 0.9834 - val_loss: 0.0928 - val_accuracy: 0.9823\n",
            "Epoch 268/350\n",
            "11645/11645 [==============================] - 7s 576us/step - loss: 0.0611 - accuracy: 0.9813 - val_loss: 0.1015 - val_accuracy: 0.9812\n",
            "Epoch 269/350\n",
            "11645/11645 [==============================] - 7s 572us/step - loss: 0.0558 - accuracy: 0.9840 - val_loss: 0.1084 - val_accuracy: 0.9804\n",
            "Epoch 270/350\n",
            "11645/11645 [==============================] - 7s 576us/step - loss: 0.0508 - accuracy: 0.9841 - val_loss: 0.0999 - val_accuracy: 0.9815\n",
            "Epoch 271/350\n",
            "11645/11645 [==============================] - 7s 574us/step - loss: 0.0572 - accuracy: 0.9832 - val_loss: 0.1055 - val_accuracy: 0.9793\n",
            "Epoch 272/350\n",
            "11645/11645 [==============================] - 7s 577us/step - loss: 0.0508 - accuracy: 0.9842 - val_loss: 0.1051 - val_accuracy: 0.9815\n",
            "Epoch 273/350\n",
            "11645/11645 [==============================] - 7s 574us/step - loss: 0.0506 - accuracy: 0.9849 - val_loss: 0.1028 - val_accuracy: 0.9823\n",
            "Epoch 274/350\n",
            "11645/11645 [==============================] - 7s 575us/step - loss: 0.0570 - accuracy: 0.9829 - val_loss: 0.1045 - val_accuracy: 0.9790\n",
            "Epoch 275/350\n",
            "11645/11645 [==============================] - 7s 576us/step - loss: 0.0530 - accuracy: 0.9846 - val_loss: 0.1015 - val_accuracy: 0.9823\n",
            "Epoch 276/350\n",
            "11645/11645 [==============================] - 7s 576us/step - loss: 0.0520 - accuracy: 0.9836 - val_loss: 0.1134 - val_accuracy: 0.9786\n",
            "Epoch 277/350\n",
            "11645/11645 [==============================] - 7s 572us/step - loss: 0.0576 - accuracy: 0.9837 - val_loss: 0.0993 - val_accuracy: 0.9815\n",
            "Epoch 278/350\n",
            "11645/11645 [==============================] - 7s 574us/step - loss: 0.0522 - accuracy: 0.9851 - val_loss: 0.0997 - val_accuracy: 0.9815\n",
            "Epoch 279/350\n",
            "11645/11645 [==============================] - 7s 574us/step - loss: 0.0547 - accuracy: 0.9833 - val_loss: 0.0940 - val_accuracy: 0.9815\n",
            "Epoch 280/350\n",
            "11645/11645 [==============================] - 7s 579us/step - loss: 0.0561 - accuracy: 0.9829 - val_loss: 0.1038 - val_accuracy: 0.9808\n",
            "Epoch 281/350\n",
            "11645/11645 [==============================] - 7s 574us/step - loss: 0.0554 - accuracy: 0.9842 - val_loss: 0.0958 - val_accuracy: 0.9808\n",
            "Epoch 282/350\n",
            "11645/11645 [==============================] - 7s 574us/step - loss: 0.0550 - accuracy: 0.9830 - val_loss: 0.0968 - val_accuracy: 0.9815\n",
            "Epoch 283/350\n",
            "11645/11645 [==============================] - 7s 571us/step - loss: 0.0536 - accuracy: 0.9849 - val_loss: 0.1150 - val_accuracy: 0.9804\n",
            "Epoch 284/350\n",
            "11645/11645 [==============================] - 7s 575us/step - loss: 0.0488 - accuracy: 0.9850 - val_loss: 0.0980 - val_accuracy: 0.9804\n",
            "Epoch 285/350\n",
            "11645/11645 [==============================] - 7s 575us/step - loss: 0.0559 - accuracy: 0.9836 - val_loss: 0.1075 - val_accuracy: 0.9812\n",
            "Epoch 286/350\n",
            "11645/11645 [==============================] - 7s 578us/step - loss: 0.0445 - accuracy: 0.9861 - val_loss: 0.1047 - val_accuracy: 0.9815\n",
            "Epoch 287/350\n",
            "11645/11645 [==============================] - 7s 578us/step - loss: 0.0506 - accuracy: 0.9830 - val_loss: 0.1034 - val_accuracy: 0.9804\n",
            "Epoch 288/350\n",
            "11645/11645 [==============================] - 7s 574us/step - loss: 0.0508 - accuracy: 0.9854 - val_loss: 0.0983 - val_accuracy: 0.9801\n",
            "Epoch 289/350\n",
            "11645/11645 [==============================] - 7s 576us/step - loss: 0.0530 - accuracy: 0.9843 - val_loss: 0.1077 - val_accuracy: 0.9819\n",
            "Epoch 290/350\n",
            "11645/11645 [==============================] - 7s 575us/step - loss: 0.0490 - accuracy: 0.9843 - val_loss: 0.1032 - val_accuracy: 0.9815\n",
            "Epoch 291/350\n",
            "11645/11645 [==============================] - 7s 574us/step - loss: 0.0499 - accuracy: 0.9850 - val_loss: 0.1126 - val_accuracy: 0.9804\n",
            "Epoch 292/350\n",
            "11645/11645 [==============================] - 7s 573us/step - loss: 0.0534 - accuracy: 0.9848 - val_loss: 0.0992 - val_accuracy: 0.9815\n",
            "Epoch 293/350\n",
            "11645/11645 [==============================] - 7s 579us/step - loss: 0.0548 - accuracy: 0.9833 - val_loss: 0.0917 - val_accuracy: 0.9827\n",
            "Epoch 294/350\n",
            "11645/11645 [==============================] - 7s 589us/step - loss: 0.0523 - accuracy: 0.9851 - val_loss: 0.1516 - val_accuracy: 0.9745\n",
            "Epoch 295/350\n",
            "11645/11645 [==============================] - 7s 581us/step - loss: 0.0544 - accuracy: 0.9843 - val_loss: 0.1009 - val_accuracy: 0.9812\n",
            "Epoch 296/350\n",
            "11645/11645 [==============================] - 7s 573us/step - loss: 0.0553 - accuracy: 0.9844 - val_loss: 0.0906 - val_accuracy: 0.9804\n",
            "Epoch 297/350\n",
            "11645/11645 [==============================] - 7s 575us/step - loss: 0.0544 - accuracy: 0.9832 - val_loss: 0.0939 - val_accuracy: 0.9812\n",
            "Epoch 298/350\n",
            "11645/11645 [==============================] - 7s 575us/step - loss: 0.0488 - accuracy: 0.9849 - val_loss: 0.0982 - val_accuracy: 0.9804\n",
            "Epoch 299/350\n",
            "11645/11645 [==============================] - 7s 574us/step - loss: 0.0520 - accuracy: 0.9834 - val_loss: 0.1066 - val_accuracy: 0.9797\n",
            "Epoch 300/350\n",
            "11645/11645 [==============================] - 7s 573us/step - loss: 0.0500 - accuracy: 0.9850 - val_loss: 0.0945 - val_accuracy: 0.9812\n",
            "Epoch 301/350\n",
            "11645/11645 [==============================] - 7s 576us/step - loss: 0.0535 - accuracy: 0.9851 - val_loss: 0.1021 - val_accuracy: 0.9808\n",
            "Epoch 302/350\n",
            "11645/11645 [==============================] - 7s 574us/step - loss: 0.0505 - accuracy: 0.9851 - val_loss: 0.0993 - val_accuracy: 0.9815\n",
            "Epoch 303/350\n",
            "11645/11645 [==============================] - 7s 576us/step - loss: 0.0494 - accuracy: 0.9863 - val_loss: 0.0950 - val_accuracy: 0.9834\n",
            "Epoch 304/350\n",
            "11645/11645 [==============================] - 7s 573us/step - loss: 0.0550 - accuracy: 0.9836 - val_loss: 0.0965 - val_accuracy: 0.9838\n",
            "Epoch 305/350\n",
            "11645/11645 [==============================] - 7s 578us/step - loss: 0.0473 - accuracy: 0.9847 - val_loss: 0.1063 - val_accuracy: 0.9815\n",
            "Epoch 306/350\n",
            "11645/11645 [==============================] - 7s 578us/step - loss: 0.0517 - accuracy: 0.9833 - val_loss: 0.0985 - val_accuracy: 0.9815\n",
            "Epoch 307/350\n",
            "11645/11645 [==============================] - 7s 571us/step - loss: 0.0484 - accuracy: 0.9852 - val_loss: 0.1116 - val_accuracy: 0.9823\n",
            "Epoch 308/350\n",
            "11645/11645 [==============================] - 7s 577us/step - loss: 0.0437 - accuracy: 0.9864 - val_loss: 0.1083 - val_accuracy: 0.9801\n",
            "Epoch 309/350\n",
            "11645/11645 [==============================] - 7s 575us/step - loss: 0.0503 - accuracy: 0.9863 - val_loss: 0.0977 - val_accuracy: 0.9812\n",
            "Epoch 310/350\n",
            "11645/11645 [==============================] - 7s 579us/step - loss: 0.0475 - accuracy: 0.9857 - val_loss: 0.1065 - val_accuracy: 0.9812\n",
            "Epoch 311/350\n",
            "11645/11645 [==============================] - 7s 575us/step - loss: 0.0526 - accuracy: 0.9863 - val_loss: 0.0953 - val_accuracy: 0.9819\n",
            "Epoch 312/350\n",
            "11645/11645 [==============================] - 7s 576us/step - loss: 0.0526 - accuracy: 0.9842 - val_loss: 0.1055 - val_accuracy: 0.9797\n",
            "Epoch 313/350\n",
            "11645/11645 [==============================] - 7s 579us/step - loss: 0.0474 - accuracy: 0.9859 - val_loss: 0.1060 - val_accuracy: 0.9804\n",
            "Epoch 314/350\n",
            "11645/11645 [==============================] - 7s 575us/step - loss: 0.0497 - accuracy: 0.9845 - val_loss: 0.1097 - val_accuracy: 0.9793\n",
            "Epoch 315/350\n",
            "11645/11645 [==============================] - 7s 574us/step - loss: 0.0549 - accuracy: 0.9834 - val_loss: 0.1034 - val_accuracy: 0.9808\n",
            "Epoch 316/350\n",
            "11645/11645 [==============================] - 7s 574us/step - loss: 0.0483 - accuracy: 0.9860 - val_loss: 0.0962 - val_accuracy: 0.9812\n",
            "Epoch 317/350\n",
            "11645/11645 [==============================] - 7s 577us/step - loss: 0.0473 - accuracy: 0.9863 - val_loss: 0.0965 - val_accuracy: 0.9812\n",
            "Epoch 318/350\n",
            "11645/11645 [==============================] - 7s 577us/step - loss: 0.0513 - accuracy: 0.9851 - val_loss: 0.1125 - val_accuracy: 0.9812\n",
            "Epoch 319/350\n",
            "11645/11645 [==============================] - 7s 577us/step - loss: 0.0437 - accuracy: 0.9878 - val_loss: 0.1062 - val_accuracy: 0.9793\n",
            "Epoch 320/350\n",
            "11645/11645 [==============================] - 7s 573us/step - loss: 0.0496 - accuracy: 0.9869 - val_loss: 0.1144 - val_accuracy: 0.9797\n",
            "Epoch 321/350\n",
            "11645/11645 [==============================] - 7s 576us/step - loss: 0.0482 - accuracy: 0.9843 - val_loss: 0.1129 - val_accuracy: 0.9812\n",
            "Epoch 322/350\n",
            "11645/11645 [==============================] - 7s 573us/step - loss: 0.0474 - accuracy: 0.9860 - val_loss: 0.1084 - val_accuracy: 0.9804\n",
            "Epoch 323/350\n",
            "11645/11645 [==============================] - 7s 574us/step - loss: 0.0468 - accuracy: 0.9863 - val_loss: 0.0985 - val_accuracy: 0.9808\n",
            "Epoch 324/350\n",
            "11645/11645 [==============================] - 7s 574us/step - loss: 0.0504 - accuracy: 0.9862 - val_loss: 0.1124 - val_accuracy: 0.9786\n",
            "Epoch 325/350\n",
            "11645/11645 [==============================] - 7s 575us/step - loss: 0.0494 - accuracy: 0.9865 - val_loss: 0.1008 - val_accuracy: 0.9804\n",
            "Epoch 326/350\n",
            "11645/11645 [==============================] - 7s 574us/step - loss: 0.0452 - accuracy: 0.9865 - val_loss: 0.0938 - val_accuracy: 0.9812\n",
            "Epoch 327/350\n",
            "11645/11645 [==============================] - 7s 581us/step - loss: 0.0411 - accuracy: 0.9881 - val_loss: 0.1006 - val_accuracy: 0.9815\n",
            "Epoch 328/350\n",
            "11645/11645 [==============================] - 7s 575us/step - loss: 0.0515 - accuracy: 0.9851 - val_loss: 0.1009 - val_accuracy: 0.9815\n",
            "Epoch 329/350\n",
            "11645/11645 [==============================] - 7s 575us/step - loss: 0.0530 - accuracy: 0.9851 - val_loss: 0.0987 - val_accuracy: 0.9819\n",
            "Epoch 330/350\n",
            "11645/11645 [==============================] - 7s 572us/step - loss: 0.0452 - accuracy: 0.9866 - val_loss: 0.1016 - val_accuracy: 0.9819\n",
            "Epoch 331/350\n",
            "11645/11645 [==============================] - 7s 577us/step - loss: 0.0454 - accuracy: 0.9857 - val_loss: 0.1040 - val_accuracy: 0.9823\n",
            "Epoch 332/350\n",
            "11645/11645 [==============================] - 7s 574us/step - loss: 0.0513 - accuracy: 0.9857 - val_loss: 0.1098 - val_accuracy: 0.9812\n",
            "Epoch 333/350\n",
            "11645/11645 [==============================] - 7s 580us/step - loss: 0.0470 - accuracy: 0.9857 - val_loss: 0.1102 - val_accuracy: 0.9804\n",
            "Epoch 334/350\n",
            "11645/11645 [==============================] - 7s 579us/step - loss: 0.0449 - accuracy: 0.9855 - val_loss: 0.0976 - val_accuracy: 0.9830\n",
            "Epoch 335/350\n",
            "11645/11645 [==============================] - 7s 572us/step - loss: 0.0470 - accuracy: 0.9861 - val_loss: 0.1006 - val_accuracy: 0.9804\n",
            "Epoch 336/350\n",
            "11645/11645 [==============================] - 7s 572us/step - loss: 0.0494 - accuracy: 0.9867 - val_loss: 0.1347 - val_accuracy: 0.9775\n",
            "Epoch 337/350\n",
            "11645/11645 [==============================] - 7s 574us/step - loss: 0.0486 - accuracy: 0.9858 - val_loss: 0.1006 - val_accuracy: 0.9797\n",
            "Epoch 338/350\n",
            "11645/11645 [==============================] - 7s 575us/step - loss: 0.0448 - accuracy: 0.9869 - val_loss: 0.1051 - val_accuracy: 0.9808\n",
            "Epoch 339/350\n",
            "11645/11645 [==============================] - 7s 576us/step - loss: 0.0480 - accuracy: 0.9855 - val_loss: 0.1031 - val_accuracy: 0.9801\n",
            "Epoch 340/350\n",
            "11645/11645 [==============================] - 7s 583us/step - loss: 0.0450 - accuracy: 0.9869 - val_loss: 0.1065 - val_accuracy: 0.9812\n",
            "Epoch 341/350\n",
            "11645/11645 [==============================] - 7s 582us/step - loss: 0.0443 - accuracy: 0.9869 - val_loss: 0.1071 - val_accuracy: 0.9819\n",
            "Epoch 342/350\n",
            "11645/11645 [==============================] - 7s 575us/step - loss: 0.0460 - accuracy: 0.9862 - val_loss: 0.1087 - val_accuracy: 0.9808\n",
            "Epoch 343/350\n",
            "11645/11645 [==============================] - 7s 576us/step - loss: 0.0488 - accuracy: 0.9845 - val_loss: 0.1065 - val_accuracy: 0.9808\n",
            "Epoch 344/350\n",
            "11645/11645 [==============================] - 7s 573us/step - loss: 0.0447 - accuracy: 0.9846 - val_loss: 0.0994 - val_accuracy: 0.9808\n",
            "Epoch 345/350\n",
            "11645/11645 [==============================] - 7s 575us/step - loss: 0.0469 - accuracy: 0.9859 - val_loss: 0.1125 - val_accuracy: 0.9812\n",
            "Epoch 346/350\n",
            "11645/11645 [==============================] - 7s 579us/step - loss: 0.0465 - accuracy: 0.9855 - val_loss: 0.0984 - val_accuracy: 0.9815\n",
            "Epoch 347/350\n",
            "11645/11645 [==============================] - 7s 574us/step - loss: 0.0500 - accuracy: 0.9851 - val_loss: 0.1063 - val_accuracy: 0.9815\n",
            "Epoch 348/350\n",
            "11645/11645 [==============================] - 7s 572us/step - loss: 0.0435 - accuracy: 0.9864 - val_loss: 0.1073 - val_accuracy: 0.9812\n",
            "Epoch 349/350\n",
            "11645/11645 [==============================] - 7s 574us/step - loss: 0.0431 - accuracy: 0.9870 - val_loss: 0.1084 - val_accuracy: 0.9790\n",
            "Epoch 350/350\n",
            "11645/11645 [==============================] - 7s 573us/step - loss: 0.0449 - accuracy: 0.9861 - val_loss: 0.1014 - val_accuracy: 0.9823\n",
            "Test loss: 0.1013986437956647\n",
            "Test accuracy: 0.9822878241539001\n"
          ],
          "name": "stdout"
        }
      ]
    },
    {
      "cell_type": "code",
      "metadata": {
        "id": "b4TS4CdSq_5T",
        "colab_type": "code",
        "colab": {
          "base_uri": "https://localhost:8080/",
          "height": 279
        },
        "outputId": "094d3298-2e7f-4535-bcc7-810605828dcd"
      },
      "source": [
        "#Ve bieu do\n",
        "import matplotlib.pyplot as plt\n",
        "history_dict = history.history\n",
        "\n",
        "loss_values = history_dict['loss']\n",
        "validate_values = history_dict['val_loss']\n",
        "acc_values = history_dict['accuracy']\n",
        "val_acc_values = history_dict['val_accuracy']\n",
        "epochs = range(1, len(loss_values) +1)\n",
        "line1 = plt.plot(epochs, validate_values, label = 'Val/test_lost')\n",
        "line2 = plt.plot(epochs, loss_values, label = 'train_loss')\n",
        "line3 = plt.plot(epochs, acc_values, label = 'accuracy_train')\n",
        "line4 = plt.plot(epochs, val_acc_values, label = 'accuracy_val')\n",
        "\n",
        "plt.setp(line1, linewidth = 2.0, marker = \"+\", markersize = 10)\n",
        "plt.setp(line2, linewidth = 2.0, marker = \"4\", markersize = 10)\n",
        "plt.setp(line3, linewidth = 2.0, marker = \"4\", markersize = 10)\n",
        "plt.setp(line4, linewidth = 2.0, marker = \"+\", markersize = 10)\n",
        "plt.xlabel('Epochs')\n",
        "plt.ylabel('Loss')\n",
        "plt.grid(True)\n",
        "plt.legend()\n",
        "plt.show()"
      ],
      "execution_count": null,
      "outputs": [
        {
          "output_type": "display_data",
          "data": {
            "image/png": "[encoded data removed]",
            "text/plain": [
              "<Figure size 432x288 with 1 Axes>"
            ]
          },
          "metadata": {
            "tags": [],
            "needs_background": "light"
          }
        }
      ]
    },
    {
      "cell_type": "code",
      "metadata": {
        "id": "l2MQ99fxrGaW",
        "colab_type": "code",
        "colab": {
          "base_uri": "https://localhost:8080/",
          "height": 35
        },
        "outputId": "5f6ccbaf-4411-46c7-a733-d1e836e60078"
      },
      "source": [
        "#luu model\n",
        "model.save('/content/drive/My Drive/ssd-mbv1/models/model_kt1.h5')\n",
        "print('Model saved')"
      ],
      "execution_count": null,
      "outputs": [
        {
          "output_type": "stream",
          "text": [
            "Model saved\n"
          ],
          "name": "stdout"
        }
      ]
    },
    {
      "cell_type": "code",
      "metadata": {
        "id": "9BC-c5NcrQUK",
        "colab_type": "code",
        "colab": {
          "base_uri": "https://localhost:8080/",
          "height": 35
        },
        "outputId": "7a21dd4e-f270-4530-dbe4-09677a4ebfbe"
      },
      "source": [
        "from keras.models import load_model\n",
        "\n",
        "model_test = load_model('/content/drive/My Drive/ssd-mbv1/models/model_kt1.h5')\n",
        "print('Model Loaded')"
      ],
      "execution_count": null,
      "outputs": [
        {
          "output_type": "stream",
          "text": [
            "Model Loaded\n"
          ],
          "name": "stdout"
        }
      ]
    },
    {
      "cell_type": "code",
      "metadata": {
        "id": "enOq4loPrU-3",
        "colab_type": "code",
        "colab": {
          "base_uri": "https://localhost:8080/",
          "height": 839
        },
        "outputId": "279d9ff7-897f-4f73-8338-48a72dd6fd5f"
      },
      "source": [
        "from google.colab.patches import cv2_imshow\n",
        "import numpy as np\n",
        "labels = ['F', 'Z', '5', '7', '0', 'H', '3', 'N', 'E', '2', 'U', 'S', 'K', 'L', 'D', 'T', 'B', '9', 'X', 'Y', '8', 'C', '1', 'R', 'V', 'A', '4', 'Q', '6', 'P', 'G', 'M']\n",
        "\n",
        "for i in range(10):\n",
        "    index = np.random.randint(1900)\n",
        "    img = test_data[index]\n",
        "    y_predict = model_test.predict(img.reshape(1, 64, 64, 1))\n",
        "    img = img*255\n",
        "    img = img.reshape(64, 64)\n",
        "    cv2_imshow(img)\n",
        "    print(labels[np.argmax(y_predict)])"
      ],
      "execution_count": null,
      "outputs": [
        {
          "output_type": "display_data",
          "data": {
            "image/png": "[encoded data removed]",
            "text/plain": [
              "<PIL.Image.Image image mode=L size=64x64 at 0x7F78B5627A90>"
            ]
          },
          "metadata": {
            "tags": []
          }
        },
        {
          "output_type": "stream",
          "text": [
            "9\n"
          ],
          "name": "stdout"
        },
        {
          "output_type": "display_data",
          "data": {
            "image/png": "[encoded data removed]",
            "text/plain": [
              "<PIL.Image.Image image mode=L size=64x64 at 0x7F78B5627B00>"
            ]
          },
          "metadata": {
            "tags": []
          }
        },
        {
          "output_type": "stream",
          "text": [
            "9\n"
          ],
          "name": "stdout"
        },
        {
          "output_type": "display_data",
          "data": {
            "image/png": "[encoded data removed]",
            "text/plain": [
              "<PIL.Image.Image image mode=L size=64x64 at 0x7F78B5627A90>"
            ]
          },
          "metadata": {
            "tags": []
          }
        },
        {
          "output_type": "stream",
          "text": [
            "9\n"
          ],
          "name": "stdout"
        },
        {
          "output_type": "display_data",
          "data": {
            "image/png": "[encoded data removed]",
            "text/plain": [
              "<PIL.Image.Image image mode=L size=64x64 at 0x7F78B5627B00>"
            ]
          },
          "metadata": {
            "tags": []
          }
        },
        {
          "output_type": "stream",
          "text": [
            "K\n"
          ],
          "name": "stdout"
        },
        {
          "output_type": "display_data",
          "data": {
            "image/png": "[encoded data removed]",
            "text/plain": [
              "<PIL.Image.Image image mode=L size=64x64 at 0x7F78B5627A90>"
            ]
          },
          "metadata": {
            "tags": []
          }
        },
        {
          "output_type": "stream",
          "text": [
            "5\n"
          ],
          "name": "stdout"
        },
        {
          "output_type": "display_data",
          "data": {
            "image/png": "[encoded data removed]",
            "text/plain": [
              "<PIL.Image.Image image mode=L size=64x64 at 0x7F78B5627B00>"
            ]
          },
          "metadata": {
            "tags": []
          }
        },
        {
          "output_type": "stream",
          "text": [
            "9\n"
          ],
          "name": "stdout"
        },
        {
          "output_type": "display_data",
          "data": {
            "image/png": "[encoded data removed]",
            "text/plain": [
              "<PIL.Image.Image image mode=L size=64x64 at 0x7F78B5627A90>"
            ]
          },
          "metadata": {
            "tags": []
          }
        },
        {
          "output_type": "stream",
          "text": [
            "0\n"
          ],
          "name": "stdout"
        },
        {
          "output_type": "display_data",
          "data": {
            "image/png": "[encoded data removed]",
            "text/plain": [
              "<PIL.Image.Image image mode=L size=64x64 at 0x7F78B5627B00>"
            ]
          },
          "metadata": {
            "tags": []
          }
        },
        {
          "output_type": "stream",
          "text": [
            "L\n"
          ],
          "name": "stdout"
        },
        {
          "output_type": "display_data",
          "data": {
            "image/png": "[encoded data removed]",
            "text/plain": [
              "<PIL.Image.Image image mode=L size=64x64 at 0x7F78B5627A90>"
            ]
          },
          "metadata": {
            "tags": []
          }
        },
        {
          "output_type": "stream",
          "text": [
            "0\n"
          ],
          "name": "stdout"
        },
        {
          "output_type": "display_data",
          "data": {
            "image/png": "[encoded data removed]",
            "text/plain": [
              "<PIL.Image.Image image mode=L size=64x64 at 0x7F78B5627908>"
            ]
          },
          "metadata": {
            "tags": []
          }
        },
        {
          "output_type": "stream",
          "text": [
            "9\n"
          ],
          "name": "stdout"
        }
      ]
    }
  ]
}